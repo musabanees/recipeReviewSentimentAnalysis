{
 "cells": [
  {
   "cell_type": "code",
   "execution_count": 1,
   "metadata": {},
   "outputs": [],
   "source": [
    "import sys\n",
    "import os\n",
    "\n",
    "# Changing the parent path\n",
    "src_path = os.path.abspath(os.path.join('..', 'src'))\n",
    "if src_path not in sys.path:\n",
    "    sys.path.append(src_path)\n",
    "\n",
    "\n",
    "from utils import *"
   ]
  },
  {
   "cell_type": "markdown",
   "metadata": {},
   "source": [
    "## Loading the data"
   ]
  },
  {
   "cell_type": "code",
   "execution_count": 2,
   "metadata": {},
   "outputs": [
    {
     "data": {
      "text/html": [
       "<div>\n",
       "<style scoped>\n",
       "    .dataframe tbody tr th:only-of-type {\n",
       "        vertical-align: middle;\n",
       "    }\n",
       "\n",
       "    .dataframe tbody tr th {\n",
       "        vertical-align: top;\n",
       "    }\n",
       "\n",
       "    .dataframe thead th {\n",
       "        text-align: right;\n",
       "    }\n",
       "</style>\n",
       "<table border=\"1\" class=\"dataframe\">\n",
       "  <thead>\n",
       "    <tr style=\"text-align: right;\">\n",
       "      <th></th>\n",
       "      <th>Unnamed: 0</th>\n",
       "      <th>recipe_number</th>\n",
       "      <th>recipe_code</th>\n",
       "      <th>recipe_name</th>\n",
       "      <th>comment_id</th>\n",
       "      <th>user_id</th>\n",
       "      <th>user_name</th>\n",
       "      <th>user_reputation</th>\n",
       "      <th>created_at</th>\n",
       "      <th>reply_count</th>\n",
       "      <th>thumbs_up</th>\n",
       "      <th>thumbs_down</th>\n",
       "      <th>stars</th>\n",
       "      <th>best_score</th>\n",
       "      <th>text</th>\n",
       "    </tr>\n",
       "  </thead>\n",
       "  <tbody>\n",
       "    <tr>\n",
       "      <th>0</th>\n",
       "      <td>0</td>\n",
       "      <td>1</td>\n",
       "      <td>14299</td>\n",
       "      <td>Creamy White Chili</td>\n",
       "      <td>sp_aUSaElGf_14299_c_2G3aneMRgRMZwXqIHmSdXSG1hEM</td>\n",
       "      <td>u_9iFLIhMa8QaG</td>\n",
       "      <td>Jeri326</td>\n",
       "      <td>1</td>\n",
       "      <td>1665619889</td>\n",
       "      <td>0</td>\n",
       "      <td>0</td>\n",
       "      <td>0</td>\n",
       "      <td>5</td>\n",
       "      <td>527</td>\n",
       "      <td>I tweaked it a little, removed onions because ...</td>\n",
       "    </tr>\n",
       "    <tr>\n",
       "      <th>1</th>\n",
       "      <td>1</td>\n",
       "      <td>1</td>\n",
       "      <td>14299</td>\n",
       "      <td>Creamy White Chili</td>\n",
       "      <td>sp_aUSaElGf_14299_c_2FsPC83HtzCsQAtOxlbL6RcaPbY</td>\n",
       "      <td>u_Lu6p25tmE77j</td>\n",
       "      <td>Mark467</td>\n",
       "      <td>50</td>\n",
       "      <td>1665277687</td>\n",
       "      <td>0</td>\n",
       "      <td>7</td>\n",
       "      <td>0</td>\n",
       "      <td>5</td>\n",
       "      <td>724</td>\n",
       "      <td>Bush used to have a white chili bean and it ma...</td>\n",
       "    </tr>\n",
       "    <tr>\n",
       "      <th>2</th>\n",
       "      <td>2</td>\n",
       "      <td>1</td>\n",
       "      <td>14299</td>\n",
       "      <td>Creamy White Chili</td>\n",
       "      <td>sp_aUSaElGf_14299_c_2FPrSGyTv7PQkZq37j92r9mYGkP</td>\n",
       "      <td>u_s0LwgpZ8Jsqq</td>\n",
       "      <td>Barbara566</td>\n",
       "      <td>10</td>\n",
       "      <td>1664404557</td>\n",
       "      <td>0</td>\n",
       "      <td>3</td>\n",
       "      <td>0</td>\n",
       "      <td>5</td>\n",
       "      <td>710</td>\n",
       "      <td>I have a very complicated white chicken chili ...</td>\n",
       "    </tr>\n",
       "    <tr>\n",
       "      <th>3</th>\n",
       "      <td>3</td>\n",
       "      <td>1</td>\n",
       "      <td>14299</td>\n",
       "      <td>Creamy White Chili</td>\n",
       "      <td>sp_aUSaElGf_14299_c_2DzdSIgV9qNiuBaLoZ7JQaartoC</td>\n",
       "      <td>u_fqrybAdYjgjG</td>\n",
       "      <td>jeansch123</td>\n",
       "      <td>1</td>\n",
       "      <td>1661787808</td>\n",
       "      <td>2</td>\n",
       "      <td>2</td>\n",
       "      <td>0</td>\n",
       "      <td>0</td>\n",
       "      <td>581</td>\n",
       "      <td>In your introduction, you mentioned cream chee...</td>\n",
       "    </tr>\n",
       "  </tbody>\n",
       "</table>\n",
       "</div>"
      ],
      "text/plain": [
       "   Unnamed: 0  recipe_number  recipe_code         recipe_name  \\\n",
       "0           0              1        14299  Creamy White Chili   \n",
       "1           1              1        14299  Creamy White Chili   \n",
       "2           2              1        14299  Creamy White Chili   \n",
       "3           3              1        14299  Creamy White Chili   \n",
       "\n",
       "                                        comment_id         user_id  \\\n",
       "0  sp_aUSaElGf_14299_c_2G3aneMRgRMZwXqIHmSdXSG1hEM  u_9iFLIhMa8QaG   \n",
       "1  sp_aUSaElGf_14299_c_2FsPC83HtzCsQAtOxlbL6RcaPbY  u_Lu6p25tmE77j   \n",
       "2  sp_aUSaElGf_14299_c_2FPrSGyTv7PQkZq37j92r9mYGkP  u_s0LwgpZ8Jsqq   \n",
       "3  sp_aUSaElGf_14299_c_2DzdSIgV9qNiuBaLoZ7JQaartoC  u_fqrybAdYjgjG   \n",
       "\n",
       "    user_name  user_reputation  created_at  reply_count  thumbs_up  \\\n",
       "0     Jeri326                1  1665619889            0          0   \n",
       "1     Mark467               50  1665277687            0          7   \n",
       "2  Barbara566               10  1664404557            0          3   \n",
       "3  jeansch123                1  1661787808            2          2   \n",
       "\n",
       "   thumbs_down  stars  best_score  \\\n",
       "0            0      5         527   \n",
       "1            0      5         724   \n",
       "2            0      5         710   \n",
       "3            0      0         581   \n",
       "\n",
       "                                                text  \n",
       "0  I tweaked it a little, removed onions because ...  \n",
       "1  Bush used to have a white chili bean and it ma...  \n",
       "2  I have a very complicated white chicken chili ...  \n",
       "3  In your introduction, you mentioned cream chee...  "
      ]
     },
     "execution_count": 2,
     "metadata": {},
     "output_type": "execute_result"
    }
   ],
   "source": [
    "data = read_dataset()\n",
    "data.head(4)"
   ]
  },
  {
   "cell_type": "markdown",
   "metadata": {},
   "source": [
    "## Performing Data Cleaning Process"
   ]
  },
  {
   "cell_type": "code",
   "execution_count": 3,
   "metadata": {},
   "outputs": [
    {
     "name": "stdout",
     "output_type": "stream",
     "text": [
      "Applying Text Processing and Data Cleaning!\n"
     ]
    },
    {
     "data": {
      "text/html": [
       "<div>\n",
       "<style scoped>\n",
       "    .dataframe tbody tr th:only-of-type {\n",
       "        vertical-align: middle;\n",
       "    }\n",
       "\n",
       "    .dataframe tbody tr th {\n",
       "        vertical-align: top;\n",
       "    }\n",
       "\n",
       "    .dataframe thead th {\n",
       "        text-align: right;\n",
       "    }\n",
       "</style>\n",
       "<table border=\"1\" class=\"dataframe\">\n",
       "  <thead>\n",
       "    <tr style=\"text-align: right;\">\n",
       "      <th></th>\n",
       "      <th>stars</th>\n",
       "      <th>text</th>\n",
       "      <th>cleaned_text</th>\n",
       "      <th>sentiment</th>\n",
       "    </tr>\n",
       "  </thead>\n",
       "  <tbody>\n",
       "    <tr>\n",
       "      <th>0</th>\n",
       "      <td>5</td>\n",
       "      <td>I tweaked it a little, removed onions because ...</td>\n",
       "      <td>tweak little remove onions onion haters house ...</td>\n",
       "      <td>1</td>\n",
       "    </tr>\n",
       "    <tr>\n",
       "      <th>1</th>\n",
       "      <td>5</td>\n",
       "      <td>Bush used to have a white chili bean and it ma...</td>\n",
       "      <td>bush use white chili bean make recipe super si...</td>\n",
       "      <td>1</td>\n",
       "    </tr>\n",
       "    <tr>\n",
       "      <th>2</th>\n",
       "      <td>5</td>\n",
       "      <td>I have a very complicated white chicken chili ...</td>\n",
       "      <td>complicate white chicken chili recipe make yea...</td>\n",
       "      <td>1</td>\n",
       "    </tr>\n",
       "    <tr>\n",
       "      <th>5</th>\n",
       "      <td>5</td>\n",
       "      <td>amazing! my boyfriend loved it so much! going ...</td>\n",
       "      <td>amaze boyfriend love much go make week</td>\n",
       "      <td>1</td>\n",
       "    </tr>\n",
       "    <tr>\n",
       "      <th>6</th>\n",
       "      <td>5</td>\n",
       "      <td>Wow!!!  This recipe is excellent as written!! ...</td>\n",
       "      <td>wow recipe excellent write change make use oz ...</td>\n",
       "      <td>1</td>\n",
       "    </tr>\n",
       "  </tbody>\n",
       "</table>\n",
       "</div>"
      ],
      "text/plain": [
       "   stars                                               text  \\\n",
       "0      5  I tweaked it a little, removed onions because ...   \n",
       "1      5  Bush used to have a white chili bean and it ma...   \n",
       "2      5  I have a very complicated white chicken chili ...   \n",
       "5      5  amazing! my boyfriend loved it so much! going ...   \n",
       "6      5  Wow!!!  This recipe is excellent as written!! ...   \n",
       "\n",
       "                                        cleaned_text  sentiment  \n",
       "0  tweak little remove onions onion haters house ...          1  \n",
       "1  bush use white chili bean make recipe super si...          1  \n",
       "2  complicate white chicken chili recipe make yea...          1  \n",
       "5             amaze boyfriend love much go make week          1  \n",
       "6  wow recipe excellent write change make use oz ...          1  "
      ]
     },
     "execution_count": 3,
     "metadata": {},
     "output_type": "execute_result"
    }
   ],
   "source": [
    "data = dataCleaning( data )\n",
    "data.head()"
   ]
  },
  {
   "cell_type": "markdown",
   "metadata": {},
   "source": [
    "## Displaying Class Distribution"
   ]
  },
  {
   "cell_type": "code",
   "execution_count": 4,
   "metadata": {},
   "outputs": [
    {
     "data": {
      "image/png": "[encoded data removed]",
      "text/plain": [
       "<Figure size 800x600 with 1 Axes>"
      ]
     },
     "metadata": {},
     "output_type": "display_data"
    }
   ],
   "source": [
    "displayRatings( data['sentiment'] )"
   ]
  },
  {
   "cell_type": "markdown",
   "metadata": {},
   "source": [
    "## Performing Data Preprocessing"
   ]
  },
  {
   "cell_type": "code",
   "execution_count": 5,
   "metadata": {},
   "outputs": [
    {
     "name": "stdout",
     "output_type": "stream",
     "text": [
      "Shape After Vectorization! \n",
      "(11538, 4543) (4946, 4543) (11538,) (4946,)\n",
      "Class distribution after ADASYN: Counter({1: 10848, 0: 10684})\n"
     ]
    }
   ],
   "source": [
    "XData = data['cleaned_text']\n",
    "XLabels = data['sentiment']\n",
    "\n",
    "X_train, X_test, y_train, y_test, tfidfVectorizer = tfidfVectorizationProcess( XData , XLabels )\n",
    "xSmoteData, ySmoteData = adasynAlgo( X_train, y_train )"
   ]
  },
  {
   "cell_type": "markdown",
   "metadata": {},
   "source": [
    "## Running Machine Learning Models"
   ]
  },
  {
   "cell_type": "code",
   "execution_count": 6,
   "metadata": {},
   "outputs": [
    {
     "name": "stdout",
     "output_type": "stream",
     "text": [
      "Mean F1-Score: 0.9346\n",
      "Standard Deviation of F1-Score: 0.0027\n",
      " ** Model has Trained! ** \n",
      "***TESTING WEIGHTS:  {0: 3.0, 1: 2.0}\n",
      "[LightGBM] [Info] Number of positive: 8678, number of negative: 8547\n",
      "[LightGBM] [Info] Auto-choosing col-wise multi-threading, the overhead of testing was 0.113506 seconds.\n",
      "You can set `force_col_wise=true` to remove the overhead.\n",
      "[LightGBM] [Info] Total Bins 114784\n",
      "[LightGBM] [Info] Number of data points in the train set: 17225, number of used features: 3000\n",
      "[LightGBM] [Info] [binary:BoostFromScore]: pavg=0.403656 -> initscore=-0.390254\n",
      "[LightGBM] [Info] Start training from score -0.390254\n",
      "[LightGBM] [Info] Number of positive: 8678, number of negative: 8547\n",
      "[LightGBM] [Info] Auto-choosing col-wise multi-threading, the overhead of testing was 0.101099 seconds.\n",
      "You can set `force_col_wise=true` to remove the overhead.\n",
      "[LightGBM] [Info] Total Bins 115057\n",
      "[LightGBM] [Info] Number of data points in the train set: 17225, number of used features: 2961\n",
      "[LightGBM] [Info] [binary:BoostFromScore]: pavg=0.403656 -> initscore=-0.390254\n",
      "[LightGBM] [Info] Start training from score -0.390254\n",
      "[LightGBM] [Info] Number of positive: 8678, number of negative: 8548\n",
      "[LightGBM] [Info] Auto-choosing col-wise multi-threading, the overhead of testing was 0.099220 seconds.\n",
      "You can set `force_col_wise=true` to remove the overhead.\n",
      "[LightGBM] [Info] Total Bins 115173\n",
      "[LightGBM] [Info] Number of data points in the train set: 17226, number of used features: 3003\n",
      "[LightGBM] [Info] [binary:BoostFromScore]: pavg=0.403628 -> initscore=-0.390371\n",
      "[LightGBM] [Info] Start training from score -0.390371\n",
      "[LightGBM] [Info] Number of positive: 8679, number of negative: 8547\n",
      "[LightGBM] [Info] Auto-choosing row-wise multi-threading, the overhead of testing was 0.094808 seconds.\n",
      "You can set `force_row_wise=true` to remove the overhead.\n",
      "And if memory is not enough, you can set `force_col_wise=true`.\n",
      "[LightGBM] [Info] Total Bins 114817\n",
      "[LightGBM] [Info] Number of data points in the train set: 17226, number of used features: 2981\n",
      "[LightGBM] [Info] [binary:BoostFromScore]: pavg=0.403684 -> initscore=-0.390139\n",
      "[LightGBM] [Info] Start training from score -0.390139\n",
      "[LightGBM] [Info] Number of positive: 8679, number of negative: 8547\n",
      "[LightGBM] [Info] Auto-choosing row-wise multi-threading, the overhead of testing was 0.095846 seconds.\n",
      "You can set `force_row_wise=true` to remove the overhead.\n",
      "And if memory is not enough, you can set `force_col_wise=true`.\n",
      "[LightGBM] [Info] Total Bins 114810\n",
      "[LightGBM] [Info] Number of data points in the train set: 17226, number of used features: 2964\n",
      "[LightGBM] [Info] [binary:BoostFromScore]: pavg=0.403684 -> initscore=-0.390139\n",
      "[LightGBM] [Info] Start training from score -0.390139\n",
      "Mean F1-Score: 0.94\n",
      "Standard Deviation of F1-Score: 0.01\n",
      "[LightGBM] [Info] Number of positive: 10848, number of negative: 10684\n",
      "[LightGBM] [Info] Auto-choosing col-wise multi-threading, the overhead of testing was 0.126155 seconds.\n",
      "You can set `force_col_wise=true` to remove the overhead.\n",
      "[LightGBM] [Info] Total Bins 138432\n",
      "[LightGBM] [Info] Number of data points in the train set: 21532, number of used features: 3228\n",
      "[LightGBM] [Info] [binary:BoostFromScore]: pavg=0.403662 -> initscore=-0.390232\n",
      "[LightGBM] [Info] Start training from score -0.390232\n",
      " ** Model has Trained! ** \n"
     ]
    }
   ],
   "source": [
    "logisticRegressionModel , lightGBMModel = runModels( xSmoteData, ySmoteData, X_test, y_test )"
   ]
  },
  {
   "cell_type": "code",
   "execution_count": 7,
   "metadata": {},
   "outputs": [
    {
     "name": "stdout",
     "output_type": "stream",
     "text": [
      "** F1-Score on Test Data: 0.93 **\n",
      "\n",
      "** Classification Report: **\n",
      "              precision    recall  f1-score   support\n",
      "\n",
      "           0       0.32      0.82      0.46       312\n",
      "           1       0.99      0.88      0.93      4634\n",
      "\n",
      "    accuracy                           0.88      4946\n",
      "   macro avg       0.65      0.85      0.69      4946\n",
      "weighted avg       0.94      0.88      0.90      4946\n",
      "\n",
      "\n",
      "** Confusion Matrix **\n"
     ]
    },
    {
     "data": {
      "image/png": "[encoded data removed]",
      "text/plain": [
       "<Figure size 640x480 with 2 Axes>"
      ]
     },
     "metadata": {},
     "output_type": "display_data"
    }
   ],
   "source": [
    "evaluateModel( logisticRegressionModel , X_test, y_test )"
   ]
  },
  {
   "cell_type": "code",
   "execution_count": 8,
   "metadata": {},
   "outputs": [
    {
     "name": "stdout",
     "output_type": "stream",
     "text": [
      "** F1-Score on Test Data: 0.94 **\n",
      "\n",
      "** Classification Report: **\n",
      "              precision    recall  f1-score   support\n",
      "\n",
      "           0       0.33      0.69      0.45       312\n",
      "           1       0.98      0.91      0.94      4634\n",
      "\n",
      "    accuracy                           0.89      4946\n",
      "   macro avg       0.66      0.80      0.69      4946\n",
      "weighted avg       0.94      0.89      0.91      4946\n",
      "\n",
      "\n",
      "** Confusion Matrix **\n"
     ]
    },
    {
     "data": {
      "image/png": "[encoded data removed]",
      "text/plain": [
       "<Figure size 640x480 with 2 Axes>"
      ]
     },
     "metadata": {},
     "output_type": "display_data"
    }
   ],
   "source": [
    "evaluateModel( lightGBMModel , X_test, y_test )"
   ]
  },
  {
   "cell_type": "markdown",
   "metadata": {},
   "source": [
    "## Prediction on Sample Text"
   ]
  },
  {
   "cell_type": "code",
   "execution_count": 9,
   "metadata": {},
   "outputs": [
    {
     "name": "stdout",
     "output_type": "stream",
     "text": [
      "Predicted Label: Negavtive\n",
      "Probability of Positive Class: [0.19383268]\n"
     ]
    }
   ],
   "source": [
    "\n",
    "text = \"I omitted the green chilis, and I loved it.  Added some cheese and oyster crackers to my bowl and was delicious.  I am going to make this again and again.  Finally a chicken chili recipe that I can use.\"\n",
    "text = \"CANT SEE THE ENTIRE RECIPE!:( :(\"\n",
    "text = \"Just made today! Delicious\"\n",
    "text = \"Yum......thanks for posting\"\n",
    "text = \"OOHHHHHHHHHHHHHHH MYYYYYYYYYYY  Five stars are not enough to express how yummy this dish is!  This smelled heavenly, and tasted even better!  We had roast chicken on Sunday and I used the leftover meat and rich broth.  I cut the recipe in half, since I only made one pie.  I didn&#39;t have peas, so substituted cut fresh asparagus for the &#39;green.&#39;  I also added garlic and bay leaves to the roux (removed before pouring into pie shell).   It reminded me of one of those high end chicken pies from the freezer section, but with less calories.  Thanks for the recipe Karen... it will definitely be a regular on our table!\"\n",
    "text = \"Oh, absolutely loved this recipe! The way it turned my kitchen into a disaster zone was truly remarkable. The instructions were so vague that I felt like a contestant on a cooking show with no clue what to do next. And the flavor? Let's just say my taste buds are still recovering.\"\n",
    "predictSentiment( text , tfidfVectorizer, lightGBMModel )\n"
   ]
  },
  {
   "cell_type": "markdown",
   "metadata": {},
   "source": [
    "## ** Naive baise - Not sure to include in the project"
   ]
  },
  {
   "cell_type": "code",
   "execution_count": null,
   "metadata": {},
   "outputs": [],
   "source": [
    "from sklearn.naive_bayes import MultinomialNB\n",
    "from sklearn.metrics import classification_report, precision_score, recall_score, f1_score\n",
    "from sklearn.model_selection import train_test_split\n",
    "\n",
    "\n",
    "# Step 2: Initialize and Train Naive Bayes Model\n",
    "nb_model = MultinomialNB()\n",
    "nb_model.fit(xSmoteData, ySmoteData)\n",
    "\n",
    "# Step 3: Make Predictions\n",
    "y_pred = nb_model.predict(X_test)\n",
    "\n",
    "# Step 4: Evaluate Model Performance\n",
    "precision = precision_score(y_test, y_pred, average='binary')\n",
    "recall = recall_score(y_test, y_pred, average='binary')\n",
    "f1 = f1_score(y_test, y_pred, average='binary')\n",
    "\n",
    "print(f\"Precision: {precision:.4f}\")\n",
    "print(f\"Recall: {recall:.4f}\")\n",
    "print(f\"F1-Score: {f1:.4f}\")\n",
    "print(\"\\nClassification Report:\")\n",
    "print(classification_report(y_test, y_pred))\n"
   ]
  },
  {
   "cell_type": "code",
   "execution_count": null,
   "metadata": {},
   "outputs": [],
   "source": [
    "cMap = confusion_matrix(y_test, y_pred)\n",
    "sns.heatmap(cMap, annot=True, fmt='d', cmap='Blues')\n",
    "plt.xlabel(\"Predicted\")\n",
    "plt.ylabel(\"Actual\")\n",
    "plt.title('Confusion Matrix')\n",
    "plt.show()"
   ]
  },
  {
   "cell_type": "code",
   "execution_count": null,
   "metadata": {},
   "outputs": [],
   "source": []
  }
 ],
 "metadata": {
  "kernelspec": {
   "display_name": "Python 3",
   "language": "python",
   "name": "python3"
  },
  "language_info": {
   "codemirror_mode": {
    "name": "ipython",
    "version": 3
   },
   "file_extension": ".py",
   "mimetype": "text/x-python",
   "name": "python",
   "nbconvert_exporter": "python",
   "pygments_lexer": "ipython3",
   "version": "3.12.6"
  }
 },
 "nbformat": 4,
 "nbformat_minor": 2
}
